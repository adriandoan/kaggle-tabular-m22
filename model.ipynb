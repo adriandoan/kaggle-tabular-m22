{
 "cells": [
  {
   "cell_type": "code",
   "execution_count": 89,
   "id": "663e167a-c88e-4142-a88d-ae80f4e71df2",
   "metadata": {},
   "outputs": [],
   "source": [
    "import pandas as pd\n",
    "import numpy as np\n",
    "import os\n",
    "import random\n",
    "\n",
    "from sklearn.preprocessing import LabelEncoder, StandardScaler\n",
    "\n",
    "from catboost import CatBoostRegressor"
   ]
  },
  {
   "cell_type": "code",
   "execution_count": 90,
   "id": "7fea00eb-93a9-4ffe-98cd-1edb705d0c05",
   "metadata": {},
   "outputs": [],
   "source": [
    "train = pd.read_csv('train.csv')\n",
    "test = pd.read_csv('test.csv')"
   ]
  },
  {
   "cell_type": "code",
   "execution_count": 91,
   "id": "5484abbb-f066-49e1-abe5-109826a81dd0",
   "metadata": {},
   "outputs": [
    {
     "name": "stdout",
     "output_type": "stream",
     "text": [
      "<bound method NDFrame.head of       row_id                 time  x  y direction\n",
      "0     848835  1991-09-30 12:00:00  0  0        EB\n",
      "1     848836  1991-09-30 12:00:00  0  0        NB\n",
      "2     848837  1991-09-30 12:00:00  0  0        SB\n",
      "3     848838  1991-09-30 12:00:00  0  1        EB\n",
      "4     848839  1991-09-30 12:00:00  0  1        NB\n",
      "...      ...                  ... .. ..       ...\n",
      "2335  851170  1991-09-30 23:40:00  2  3        NB\n",
      "2336  851171  1991-09-30 23:40:00  2  3        NE\n",
      "2337  851172  1991-09-30 23:40:00  2  3        SB\n",
      "2338  851173  1991-09-30 23:40:00  2  3        SW\n",
      "2339  851174  1991-09-30 23:40:00  2  3        WB\n",
      "\n",
      "[2340 rows x 5 columns]>\n"
     ]
    }
   ],
   "source": [
    "print(test.head)"
   ]
  },
  {
   "cell_type": "code",
   "execution_count": 92,
   "id": "e7bb0053-5388-462d-a03f-3baae053979f",
   "metadata": {},
   "outputs": [],
   "source": [
    "train = pd.read_csv('train.csv', index_col='row_id', parse_dates=['time'])\n",
    "test = pd.read_csv('test.csv', index_col='row_id', parse_dates=['time'])"
   ]
  },
  {
   "cell_type": "code",
   "execution_count": 93,
   "id": "3208e491-ad81-45d0-add3-2f151128cbe0",
   "metadata": {},
   "outputs": [
    {
     "name": "stdout",
     "output_type": "stream",
     "text": [
      "<bound method NDFrame.head of                       time  x  y direction\n",
      "row_id                                    \n",
      "848835 1991-09-30 12:00:00  0  0        EB\n",
      "848836 1991-09-30 12:00:00  0  0        NB\n",
      "848837 1991-09-30 12:00:00  0  0        SB\n",
      "848838 1991-09-30 12:00:00  0  1        EB\n",
      "848839 1991-09-30 12:00:00  0  1        NB\n",
      "...                    ... .. ..       ...\n",
      "851170 1991-09-30 23:40:00  2  3        NB\n",
      "851171 1991-09-30 23:40:00  2  3        NE\n",
      "851172 1991-09-30 23:40:00  2  3        SB\n",
      "851173 1991-09-30 23:40:00  2  3        SW\n",
      "851174 1991-09-30 23:40:00  2  3        WB\n",
      "\n",
      "[2340 rows x 4 columns]>\n"
     ]
    }
   ],
   "source": [
    "print(test.head)"
   ]
  },
  {
   "cell_type": "code",
   "execution_count": 94,
   "id": "f91e6991-68b2-4800-b36b-d4a37a2debb7",
   "metadata": {},
   "outputs": [
    {
     "name": "stdout",
     "output_type": "stream",
     "text": [
      "<bound method NDFrame.head of                       time  x  y direction  congestion\n",
      "row_id                                                \n",
      "0      1991-04-01 00:00:00  0  0        EB          70\n",
      "1      1991-04-01 00:00:00  0  0        NB          49\n",
      "2      1991-04-01 00:00:00  0  0        SB          24\n",
      "3      1991-04-01 00:00:00  0  1        EB          18\n",
      "4      1991-04-01 00:00:00  0  1        NB          60\n",
      "...                    ... .. ..       ...         ...\n",
      "848830 1991-09-30 11:40:00  2  3        NB          54\n",
      "848831 1991-09-30 11:40:00  2  3        NE          28\n",
      "848832 1991-09-30 11:40:00  2  3        SB          68\n",
      "848833 1991-09-30 11:40:00  2  3        SW          17\n",
      "848834 1991-09-30 11:40:00  2  3        WB          24\n",
      "\n",
      "[848835 rows x 5 columns]>\n"
     ]
    }
   ],
   "source": [
    "print(train.head)"
   ]
  },
  {
   "cell_type": "code",
   "execution_count": 95,
   "id": "8ddde646-526b-4ed4-b9fc-7f030e264005",
   "metadata": {},
   "outputs": [],
   "source": [
    "def splitTime(df, column):\n",
    "    df['weekday']=df[column].dt.weekday\n",
    "    df['month']=df[column].dt.month\n",
    "    df['day']=df[column].dt.day\n",
    "    df['hour']=df[column].dt.hour + df[column].dt.minute /60\n",
    "    \n",
    "    df = df.drop([column], axis =1)\n",
    "    \n",
    "    return df"
   ]
  },
  {
   "cell_type": "code",
   "execution_count": 96,
   "id": "04205384-ac94-4b40-b88b-7390007894c8",
   "metadata": {},
   "outputs": [],
   "source": [
    "train = splitTime(train, 'time')\n",
    "test = splitTime(test, 'time')"
   ]
  },
  {
   "cell_type": "code",
   "execution_count": 97,
   "id": "89b7f55d-079b-4946-b09b-3f09815d8b03",
   "metadata": {},
   "outputs": [
    {
     "name": "stdout",
     "output_type": "stream",
     "text": [
      "<bound method NDFrame.head of         x  y direction  congestion  weekday  month  day       hour\n",
      "row_id                                                            \n",
      "0       0  0        EB          70        0      4    1   0.000000\n",
      "1       0  0        NB          49        0      4    1   0.000000\n",
      "2       0  0        SB          24        0      4    1   0.000000\n",
      "3       0  1        EB          18        0      4    1   0.000000\n",
      "4       0  1        NB          60        0      4    1   0.000000\n",
      "...    .. ..       ...         ...      ...    ...  ...        ...\n",
      "848830  2  3        NB          54        0      9   30  11.666667\n",
      "848831  2  3        NE          28        0      9   30  11.666667\n",
      "848832  2  3        SB          68        0      9   30  11.666667\n",
      "848833  2  3        SW          17        0      9   30  11.666667\n",
      "848834  2  3        WB          24        0      9   30  11.666667\n",
      "\n",
      "[848835 rows x 8 columns]>\n"
     ]
    }
   ],
   "source": [
    "print(train.head)"
   ]
  },
  {
   "cell_type": "code",
   "execution_count": 98,
   "id": "b4f5cc7f-e8f7-4f80-b8a2-f1cd1ac5f1fc",
   "metadata": {},
   "outputs": [
    {
     "name": "stdout",
     "output_type": "stream",
     "text": [
      "['x', 'y', 'direction', 'weekday', 'month', 'day', 'hour']\n"
     ]
    }
   ],
   "source": [
    "features = [col for col in train.columns if col != 'congestion']\n",
    "print(features)\n",
    "normalFeatures =features"
   ]
  },
  {
   "cell_type": "code",
   "execution_count": 99,
   "id": "5ccf6c05-9778-4a71-89c5-8785a79a814f",
   "metadata": {},
   "outputs": [],
   "source": [
    "def encode(data, col, max_val):\n",
    "    data[col + '_sin'] = np.sin(2 * np.pi * data[col]/max_val)\n",
    "    data[col + '_cos'] = np.cos(2 * np.pi * data[col]/max_val)\n",
    "    return data"
   ]
  },
  {
   "cell_type": "code",
   "execution_count": 100,
   "id": "aade53fd-c5e5-4cf6-abf7-838c5af3d327",
   "metadata": {},
   "outputs": [
    {
     "name": "stdout",
     "output_type": "stream",
     "text": [
      "<bound method NDFrame.head of         x  y direction  congestion  weekday  month  day       hour  hour_sin  \\\n",
      "row_id                                                                         \n",
      "0       0  0        EB          70        0      4    1   0.000000  0.000000   \n",
      "1       0  0        NB          49        0      4    1   0.000000  0.000000   \n",
      "2       0  0        SB          24        0      4    1   0.000000  0.000000   \n",
      "3       0  1        EB          18        0      4    1   0.000000  0.000000   \n",
      "4       0  1        NB          60        0      4    1   0.000000  0.000000   \n",
      "...    .. ..       ...         ...      ...    ...  ...        ...       ...   \n",
      "848830  2  3        NB          54        0      9   30  11.666667  0.085887   \n",
      "848831  2  3        NE          28        0      9   30  11.666667  0.085887   \n",
      "848832  2  3        SB          68        0      9   30  11.666667  0.085887   \n",
      "848833  2  3        SW          17        0      9   30  11.666667  0.085887   \n",
      "848834  2  3        WB          24        0      9   30  11.666667  0.085887   \n",
      "\n",
      "        hour_cos  weekday_sin  weekday_cos   day_sin   day_cos  month_sin  \\\n",
      "row_id                                                                      \n",
      "0       1.000000          0.0          1.0  0.017213  0.999852   0.866025   \n",
      "1       1.000000          0.0          1.0  0.017213  0.999852   0.866025   \n",
      "2       1.000000          0.0          1.0  0.017213  0.999852   0.866025   \n",
      "3       1.000000          0.0          1.0  0.017213  0.999852   0.866025   \n",
      "4       1.000000          0.0          1.0  0.017213  0.999852   0.866025   \n",
      "...          ...          ...          ...       ...       ...        ...   \n",
      "848830 -0.996305          0.0          1.0  0.493776  0.869589  -1.000000   \n",
      "848831 -0.996305          0.0          1.0  0.493776  0.869589  -1.000000   \n",
      "848832 -0.996305          0.0          1.0  0.493776  0.869589  -1.000000   \n",
      "848833 -0.996305          0.0          1.0  0.493776  0.869589  -1.000000   \n",
      "848834 -0.996305          0.0          1.0  0.493776  0.869589  -1.000000   \n",
      "\n",
      "           month_cos  \n",
      "row_id                \n",
      "0      -5.000000e-01  \n",
      "1      -5.000000e-01  \n",
      "2      -5.000000e-01  \n",
      "3      -5.000000e-01  \n",
      "4      -5.000000e-01  \n",
      "...              ...  \n",
      "848830 -1.836970e-16  \n",
      "848831 -1.836970e-16  \n",
      "848832 -1.836970e-16  \n",
      "848833 -1.836970e-16  \n",
      "848834 -1.836970e-16  \n",
      "\n",
      "[848835 rows x 16 columns]>\n"
     ]
    }
   ],
   "source": [
    "train = encode(train, 'hour', 23.99)\n",
    "test = encode(test, 'hour', 23.99)\n",
    "train = encode(train, 'weekday', 7)\n",
    "test = encode(test, 'weekday', 7)\n",
    "train = encode (train, 'day', 365)\n",
    "test = encode (test, 'day', 365)\n",
    "train = encode(train, 'month', 12)\n",
    "test = encode(test, 'month', 12)\n",
    "print(train.head)"
   ]
  },
  {
   "cell_type": "code",
   "execution_count": 101,
   "id": "a5b3caf5-760c-4898-951b-113079d407b9",
   "metadata": {},
   "outputs": [
    {
     "name": "stdout",
     "output_type": "stream",
     "text": [
      "['x', 'y', 'direction', 'weekday', 'month', 'day', 'hour', 'hour_sin', 'hour_cos', 'weekday_sin', 'weekday_cos', 'day_sin', 'day_cos', 'month_sin', 'month_cos']\n"
     ]
    }
   ],
   "source": [
    "MODEL_MAX_DEPTH = 12\n",
    "MODEL_TASK_TYPE = 'GPU'\n",
    "MODEL_RL = 0.02\n",
    "MODEL_EVAL_METRIC ='MAE'\n",
    "MODEL_LOSS_FUNCTION = 'MAE'\n",
    "MODEL_ESR = 10\n",
    "MODEL_VERBOSE = 1000\n",
    "MODEL_ITERATIONS = 10000\n",
    "features = [col for col in train.columns if col != 'congestion']\n",
    "print(features)"
   ]
  },
  {
   "cell_type": "code",
   "execution_count": 102,
   "id": "735cfb38-8d5d-4415-b8ff-a372656fcb67",
   "metadata": {},
   "outputs": [
    {
     "name": "stdout",
     "output_type": "stream",
     "text": [
      "<bound method NDFrame.head of         x  y  weekday  month  day       hour  hour_sin  hour_cos  weekday_sin  \\\n",
      "row_id                                                                          \n",
      "0       0  0        0      4    1   0.000000  0.000000  1.000000          0.0   \n",
      "1       0  0        0      4    1   0.000000  0.000000  1.000000          0.0   \n",
      "2       0  0        0      4    1   0.000000  0.000000  1.000000          0.0   \n",
      "3       0  1        0      4    1   0.000000  0.000000  1.000000          0.0   \n",
      "4       0  1        0      4    1   0.000000  0.000000  1.000000          0.0   \n",
      "...    .. ..      ...    ...  ...        ...       ...       ...          ...   \n",
      "848830  2  3        0      9   30  11.666667  0.085887 -0.996305          0.0   \n",
      "848831  2  3        0      9   30  11.666667  0.085887 -0.996305          0.0   \n",
      "848832  2  3        0      9   30  11.666667  0.085887 -0.996305          0.0   \n",
      "848833  2  3        0      9   30  11.666667  0.085887 -0.996305          0.0   \n",
      "848834  2  3        0      9   30  11.666667  0.085887 -0.996305          0.0   \n",
      "\n",
      "        weekday_cos  ...  month_sin     month_cos  direction_EB  direction_NB  \\\n",
      "row_id               ...                                                        \n",
      "0               1.0  ...   0.866025 -5.000000e-01             1             0   \n",
      "1               1.0  ...   0.866025 -5.000000e-01             0             1   \n",
      "2               1.0  ...   0.866025 -5.000000e-01             0             0   \n",
      "3               1.0  ...   0.866025 -5.000000e-01             1             0   \n",
      "4               1.0  ...   0.866025 -5.000000e-01             0             1   \n",
      "...             ...  ...        ...           ...           ...           ...   \n",
      "848830          1.0  ...  -1.000000 -1.836970e-16             0             1   \n",
      "848831          1.0  ...  -1.000000 -1.836970e-16             0             0   \n",
      "848832          1.0  ...  -1.000000 -1.836970e-16             0             0   \n",
      "848833          1.0  ...  -1.000000 -1.836970e-16             0             0   \n",
      "848834          1.0  ...  -1.000000 -1.836970e-16             0             0   \n",
      "\n",
      "        direction_NE  direction_NW  direction_SB  direction_SE  direction_SW  \\\n",
      "row_id                                                                         \n",
      "0                  0             0             0             0             0   \n",
      "1                  0             0             0             0             0   \n",
      "2                  0             0             1             0             0   \n",
      "3                  0             0             0             0             0   \n",
      "4                  0             0             0             0             0   \n",
      "...              ...           ...           ...           ...           ...   \n",
      "848830             0             0             0             0             0   \n",
      "848831             1             0             0             0             0   \n",
      "848832             0             0             1             0             0   \n",
      "848833             0             0             0             0             1   \n",
      "848834             0             0             0             0             0   \n",
      "\n",
      "        direction_WB  \n",
      "row_id                \n",
      "0                  0  \n",
      "1                  0  \n",
      "2                  0  \n",
      "3                  0  \n",
      "4                  0  \n",
      "...              ...  \n",
      "848830             0  \n",
      "848831             0  \n",
      "848832             0  \n",
      "848833             0  \n",
      "848834             1  \n",
      "\n",
      "[848835 rows x 22 columns]>\n"
     ]
    }
   ],
   "source": [
    "X_train = pd.get_dummies(train[features])\n",
    "X_test = pd.get_dummies(test[features])\n",
    "print(X_train.head)"
   ]
  },
  {
   "cell_type": "code",
   "execution_count": 103,
   "id": "1107d7eb-981d-4dcb-ab0e-4fd6d67126fe",
   "metadata": {},
   "outputs": [
    {
     "name": "stdout",
     "output_type": "stream",
     "text": [
      "<bound method NDFrame.head of         direction_NE  x  y  hour_cos  weekday_cos   day_sin  direction_NW  \\\n",
      "row_id                                                                      \n",
      "0                  0  0  0  1.000000          1.0  0.017213             0   \n",
      "1                  0  0  0  1.000000          1.0  0.017213             0   \n",
      "2                  0  0  0  1.000000          1.0  0.017213             0   \n",
      "3                  0  0  1  1.000000          1.0  0.017213             0   \n",
      "4                  0  0  1  1.000000          1.0  0.017213             0   \n",
      "...              ... .. ..       ...          ...       ...           ...   \n",
      "848830             0  2  3 -0.996305          1.0  0.493776             0   \n",
      "848831             1  2  3 -0.996305          1.0  0.493776             0   \n",
      "848832             0  2  3 -0.996305          1.0  0.493776             0   \n",
      "848833             0  2  3 -0.996305          1.0  0.493776             0   \n",
      "848834             0  2  3 -0.996305          1.0  0.493776             0   \n",
      "\n",
      "        direction_SB  direction_EB  direction_NB  direction_SW   day_cos  \\\n",
      "row_id                                                                     \n",
      "0                  0             1             0             0  0.999852   \n",
      "1                  0             0             1             0  0.999852   \n",
      "2                  1             0             0             0  0.999852   \n",
      "3                  0             1             0             0  0.999852   \n",
      "4                  0             0             1             0  0.999852   \n",
      "...              ...           ...           ...           ...       ...   \n",
      "848830             0             0             1             0  0.869589   \n",
      "848831             0             0             0             0  0.869589   \n",
      "848832             1             0             0             0  0.869589   \n",
      "848833             0             0             0             1  0.869589   \n",
      "848834             0             0             0             0  0.869589   \n",
      "\n",
      "        hour_sin     month_cos  direction_SE  direction_WB  weekday_sin  \\\n",
      "row_id                                                                    \n",
      "0       0.000000 -5.000000e-01             0             0          0.0   \n",
      "1       0.000000 -5.000000e-01             0             0          0.0   \n",
      "2       0.000000 -5.000000e-01             0             0          0.0   \n",
      "3       0.000000 -5.000000e-01             0             0          0.0   \n",
      "4       0.000000 -5.000000e-01             0             0          0.0   \n",
      "...          ...           ...           ...           ...          ...   \n",
      "848830  0.085887 -1.836970e-16             0             0          0.0   \n",
      "848831  0.085887 -1.836970e-16             0             0          0.0   \n",
      "848832  0.085887 -1.836970e-16             0             0          0.0   \n",
      "848833  0.085887 -1.836970e-16             0             0          0.0   \n",
      "848834  0.085887 -1.836970e-16             0             1          0.0   \n",
      "\n",
      "        month_sin  \n",
      "row_id             \n",
      "0        0.866025  \n",
      "1        0.866025  \n",
      "2        0.866025  \n",
      "3        0.866025  \n",
      "4        0.866025  \n",
      "...           ...  \n",
      "848830  -1.000000  \n",
      "848831  -1.000000  \n",
      "848832  -1.000000  \n",
      "848833  -1.000000  \n",
      "848834  -1.000000  \n",
      "\n",
      "[848835 rows x 18 columns]>\n"
     ]
    }
   ],
   "source": [
    "meh = []\n",
    "for col in X_train.columns:\n",
    "    if len(col) > 4:\n",
    "        if col[-4]==\"_\":\n",
    "            continue\n",
    "    meh.append(col)\n",
    "X_normal = X_train[meh]\n",
    "\n",
    "a = set([col for col in X_train.columns])\n",
    "b=set(['weekday', 'month', 'day', 'hour'])\n",
    "X_cycle = X_train[list(a-b)]\n",
    "\n",
    "X_test_normal = X_test[meh]\n",
    "X_test_cycle = X_test[list(a-b)]\n",
    "\n",
    "print(X_cycle.head)\n",
    "            "
   ]
  },
  {
   "cell_type": "code",
   "execution_count": 104,
   "id": "f1360405-2fd1-4242-8509-68bc2a0250a1",
   "metadata": {},
   "outputs": [],
   "source": [
    "y = train['congestion']"
   ]
  },
  {
   "cell_type": "code",
   "execution_count": 105,
   "id": "bcfdfb89-4724-466b-96f0-04ee452fea16",
   "metadata": {},
   "outputs": [],
   "source": [
    "SEED = 2022\n",
    "def seed_everything(seed=SEED):\n",
    "    random.seed(seed)\n",
    "    os.environ['PYTHONHASHSEED'] = str(seed)\n",
    "    np.random.seed(seed)\n",
    "    \n",
    "seed_everything()\n",
    "\n",
    "model = CatBoostRegressor(\n",
    "    verbose=MODEL_VERBOSE,\n",
    "    early_stopping_rounds=MODEL_ESR,\n",
    "    random_seed=SEED,\n",
    "    max_depth=10,\n",
    "    learning_rate=MODEL_RL,\n",
    "    iterations=5000,\n",
    "    loss_function=MODEL_LOSS_FUNCTION,\n",
    "    eval_metric= MODEL_EVAL_METRIC\n",
    ")"
   ]
  },
  {
   "cell_type": "code",
   "execution_count": 106,
   "id": "0b412363-8b71-4cac-b734-6734eca5c1a6",
   "metadata": {},
   "outputs": [
    {
     "name": "stderr",
     "output_type": "stream",
     "text": [
      "Custom logger is already specified. Specify more than one logger at same time is not thread safe."
     ]
    },
    {
     "name": "stdout",
     "output_type": "stream",
     "text": [
      "0:\tlearn: 13.7202261\ttotal: 146ms\tremaining: 12m 12s\n",
      "1000:\tlearn: 6.3810789\ttotal: 1m 5s\tremaining: 4m 20s\n",
      "2000:\tlearn: 6.1145169\ttotal: 2m 11s\tremaining: 3m 17s\n",
      "3000:\tlearn: 5.9616850\ttotal: 3m 16s\tremaining: 2m 11s\n",
      "4000:\tlearn: 5.8532193\ttotal: 4m 22s\tremaining: 1m 5s\n",
      "4999:\tlearn: 5.7688955\ttotal: 5m 28s\tremaining: 0us\n"
     ]
    },
    {
     "data": {
      "text/plain": [
       "<catboost.core.CatBoostRegressor at 0x7fdbc5b1d590>"
      ]
     },
     "execution_count": 106,
     "metadata": {},
     "output_type": "execute_result"
    }
   ],
   "source": [
    "model.fit(X_cycle, y)"
   ]
  },
  {
   "cell_type": "code",
   "execution_count": 107,
   "id": "df39f2e4-500a-40b7-ab75-2d0cf38567e5",
   "metadata": {},
   "outputs": [],
   "source": [
    "pred_test = model.predict(X_test_cycle)"
   ]
  },
  {
   "cell_type": "code",
   "execution_count": 111,
   "id": "b292df90-4103-44bf-a5e8-6bc3b1d89bb6",
   "metadata": {},
   "outputs": [
    {
     "data": {
      "text/html": [
       "<div>\n",
       "<style scoped>\n",
       "    .dataframe tbody tr th:only-of-type {\n",
       "        vertical-align: middle;\n",
       "    }\n",
       "\n",
       "    .dataframe tbody tr th {\n",
       "        vertical-align: top;\n",
       "    }\n",
       "\n",
       "    .dataframe thead th {\n",
       "        text-align: right;\n",
       "    }\n",
       "</style>\n",
       "<table border=\"1\" class=\"dataframe\">\n",
       "  <thead>\n",
       "    <tr style=\"text-align: right;\">\n",
       "      <th></th>\n",
       "      <th>row_id</th>\n",
       "      <th>congestion</th>\n",
       "    </tr>\n",
       "  </thead>\n",
       "  <tbody>\n",
       "    <tr>\n",
       "      <th>0</th>\n",
       "      <td>848835</td>\n",
       "      <td>50</td>\n",
       "    </tr>\n",
       "    <tr>\n",
       "      <th>1</th>\n",
       "      <td>848836</td>\n",
       "      <td>35</td>\n",
       "    </tr>\n",
       "    <tr>\n",
       "      <th>2</th>\n",
       "      <td>848837</td>\n",
       "      <td>50</td>\n",
       "    </tr>\n",
       "    <tr>\n",
       "      <th>3</th>\n",
       "      <td>848838</td>\n",
       "      <td>25</td>\n",
       "    </tr>\n",
       "    <tr>\n",
       "      <th>4</th>\n",
       "      <td>848839</td>\n",
       "      <td>69</td>\n",
       "    </tr>\n",
       "  </tbody>\n",
       "</table>\n",
       "</div>"
      ],
      "text/plain": [
       "   row_id  congestion\n",
       "0  848835          50\n",
       "1  848836          35\n",
       "2  848837          50\n",
       "3  848838          25\n",
       "4  848839          69"
      ]
     },
     "execution_count": 111,
     "metadata": {},
     "output_type": "execute_result"
    }
   ],
   "source": [
    "sub = pd.read_csv('sample_submission.csv')\n",
    "sub['congestion'] = np.rint(pred_test).astype(int)\n",
    "sub.to_csv('output.csv',index=False)\n",
    "sub.head()"
   ]
  },
  {
   "cell_type": "code",
   "execution_count": null,
   "id": "426e6966-f91f-43a4-8124-0575138ce163",
   "metadata": {},
   "outputs": [],
   "source": []
  }
 ],
 "metadata": {
  "kernelspec": {
   "display_name": "Python 3.7.4 64-bit",
   "language": "python",
   "name": "python37464bit1df087f018a84bfbaf590a8345bf91a1"
  },
  "language_info": {
   "codemirror_mode": {
    "name": "ipython",
    "version": 3
   },
   "file_extension": ".py",
   "mimetype": "text/x-python",
   "name": "python",
   "nbconvert_exporter": "python",
   "pygments_lexer": "ipython3",
   "version": "3.7.4"
  }
 },
 "nbformat": 4,
 "nbformat_minor": 5
}
